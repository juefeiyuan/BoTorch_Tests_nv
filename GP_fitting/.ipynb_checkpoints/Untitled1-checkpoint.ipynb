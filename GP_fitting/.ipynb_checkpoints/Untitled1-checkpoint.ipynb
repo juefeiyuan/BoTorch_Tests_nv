{
 "cells": [
  {
   "cell_type": "code",
   "execution_count": 5,
   "metadata": {},
   "outputs": [],
   "source": [
    "import numpy as np\n",
    "import GPy\n",
    "\n",
    "\n",
    "Xsamples = np.loadtxt('Xsamples.txt')\n",
    "Ysamples = np.loadtxt('Ysamples.txt')\n",
    "Ysamples = Ysamples.reshape(len(Ysamples),1)"
   ]
  },
  {
   "cell_type": "code",
   "execution_count": 6,
   "metadata": {},
   "outputs": [
    {
     "name": "stdout",
     "output_type": "stream",
     "text": [
      "The number of iteration is  3\n",
      "The number of iteration is  4\n",
      "The number of iteration is  5\n",
      "The number of iteration is  6\n",
      "The number of iteration is  7\n",
      "The number of iteration is  8\n",
      "The number of iteration is  9\n",
      "The number of iteration is  10\n",
      "The number of iteration is  11\n",
      "The number of iteration is  12\n",
      "The number of iteration is  13\n",
      "The number of iteration is  14\n",
      "The number of iteration is  15\n",
      "The number of iteration is  16\n",
      "The number of iteration is  17\n",
      "The number of iteration is  18\n",
      "The number of iteration is  19\n",
      "The number of iteration is  20\n",
      "The number of iteration is  21\n",
      "The number of iteration is  22\n",
      "The number of iteration is  23\n",
      "The number of iteration is  24\n",
      "The number of iteration is  25\n",
      "The number of iteration is  26\n",
      "The number of iteration is  27\n",
      "The number of iteration is  28\n",
      "The number of iteration is  29\n",
      "The number of iteration is  30\n",
      "The number of iteration is  31\n",
      "The number of iteration is  32\n",
      "The number of iteration is  33\n",
      "The number of iteration is  34\n",
      "The number of iteration is  35\n",
      "The number of iteration is  36\n",
      "The number of iteration is  37\n",
      "The number of iteration is  38\n",
      "The number of iteration is  39\n",
      "The number of iteration is  40\n",
      "The number of iteration is  41\n",
      "The number of iteration is  42\n",
      "The number of iteration is  43\n",
      "The number of iteration is  44\n",
      "The number of iteration is  45\n",
      "The number of iteration is  46\n",
      "The number of iteration is  47\n",
      "The number of iteration is  48\n"
     ]
    }
   ],
   "source": [
    "\n",
    "\n",
    "\n",
    "initial_value_of_l = None\n",
    "d = 2\n",
    "\n",
    "if initial_value_of_l is None:\n",
    "    lengthscale = 0.3 * np.ones((d))\n",
    "else:\n",
    "    lengthscale = initial_value_of_l * np.ones((d))\n",
    "\n",
    "\n",
    "\n",
    "for i in range(3,len(Xsamples)):\n",
    "    \n",
    "    k = GPy.kern.RBF(input_dim = d, lengthscale = lengthscale, ARD = True)\n",
    "    GP = GPy.models.GPRegression(Xsamples[:i,:], Ysamples[:i,:], k)\n",
    "    GP.optimize()\n",
    "\n",
    "\n",
    "    print('The number of iteration is ', i-3)\n"
   ]
  }
 ],
 "metadata": {
  "kernelspec": {
   "display_name": "Python 3",
   "language": "python",
   "name": "python3"
  },
  "language_info": {
   "codemirror_mode": {
    "name": "ipython",
    "version": 3
   },
   "file_extension": ".py",
   "mimetype": "text/x-python",
   "name": "python",
   "nbconvert_exporter": "python",
   "pygments_lexer": "ipython3",
   "version": "3.7.4"
  }
 },
 "nbformat": 4,
 "nbformat_minor": 2
}
