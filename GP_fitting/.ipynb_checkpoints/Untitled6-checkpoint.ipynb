{
 "cells": [
  {
   "cell_type": "code",
   "execution_count": 1,
   "metadata": {},
   "outputs": [],
   "source": [
    "import torch\n",
    "import numpy as np\n",
    "import math\n",
    "from botorch.fit import fit_gpytorch_model\n",
    "from botorch.models import SingleTaskGP\n",
    "from botorch.test_functions import Branin\n",
    "from gpytorch.mlls import ExactMarginalLogLikelihood\n",
    "from botorch.acquisition import ExpectedImprovement\n",
    "from botorch.optim import optimize_acqf"
   ]
  },
  {
   "cell_type": "code",
   "execution_count": 2,
   "metadata": {},
   "outputs": [
    {
     "name": "stdout",
     "output_type": "stream",
     "text": [
      "GeForce RTX 2080 Ti\n",
      "The number of iteration is  0\n",
      "The number of iteration is  1\n",
      "The number of iteration is  2\n",
      "The number of iteration is  3\n",
      "The number of iteration is  4\n",
      "The number of iteration is  5\n",
      "The number of iteration is  6\n",
      "The number of iteration is  7\n",
      "The number of iteration is  8\n",
      "The number of iteration is  9\n",
      "The number of iteration is  10\n",
      "The number of iteration is  11\n",
      "The number of iteration is  12\n",
      "The number of iteration is  13\n",
      "The number of iteration is  14\n",
      "The number of iteration is  15\n",
      "The number of iteration is  16\n",
      "The number of iteration is  17\n",
      "The number of iteration is  18\n",
      "The number of iteration is  19\n",
      "The number of iteration is  20\n",
      "The number of iteration is  21\n",
      "The number of iteration is  22\n",
      "The number of iteration is  23\n",
      "The number of iteration is  24\n",
      "The number of iteration is  25\n",
      "The number of iteration is  26\n",
      "The number of iteration is  27\n",
      "The number of iteration is  28\n",
      "The number of iteration is  29\n",
      "The number of iteration is  30\n",
      "The number of iteration is  31\n",
      "The number of iteration is  32\n",
      "The number of iteration is  33\n",
      "The number of iteration is  34\n",
      "The number of iteration is  35\n",
      "The number of iteration is  36\n",
      "The number of iteration is  37\n",
      "The number of iteration is  38\n",
      "The number of iteration is  39\n",
      "The number of iteration is  40\n",
      "The number of iteration is  41\n",
      "The number of iteration is  42\n",
      "The number of iteration is  43\n",
      "The number of iteration is  44\n",
      "The number of iteration is  45\n"
     ]
    }
   ],
   "source": [
    "device = torch.device(\"cuda\" if torch.cuda.is_available() else \"cpu\")\n",
    "print(torch.cuda.get_device_name(device))\n",
    "train_x = torch.load(\"train_x.pt\")\n",
    "train_y = torch.load(\"train_y.pt\").unsqueeze(-1)\n",
    "train_x = train_x.to(device)\n",
    "train_y = train_y.to(device)\n",
    "\n",
    "\n",
    "for i in range(3,len(train_x)):\n",
    "    \n",
    "    model = SingleTaskGP(train_X=train_x[:i,:], train_Y=train_y[:i,:])\n",
    "    mll = ExactMarginalLogLikelihood(model.likelihood, model)\n",
    "    model = model.to(device)\n",
    "    mll = mll.to(device)\n",
    "    fit_gpytorch_model(mll)\n",
    "    \n",
    "    print('The number of iteration is ', i-3)"
   ]
  }
 ],
 "metadata": {
  "kernelspec": {
   "display_name": "Python 3",
   "language": "python",
   "name": "python3"
  },
  "language_info": {
   "codemirror_mode": {
    "name": "ipython",
    "version": 3
   },
   "file_extension": ".py",
   "mimetype": "text/x-python",
   "name": "python",
   "nbconvert_exporter": "python",
   "pygments_lexer": "ipython3",
   "version": "3.7.4"
  }
 },
 "nbformat": 4,
 "nbformat_minor": 2
}
