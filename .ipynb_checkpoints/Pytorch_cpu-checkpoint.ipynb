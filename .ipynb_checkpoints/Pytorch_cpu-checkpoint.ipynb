{
 "cells": [
  {
   "cell_type": "code",
   "execution_count": 1,
   "metadata": {},
   "outputs": [],
   "source": [
    "import torch\n",
    "import numpy as np\n",
    "import math\n",
    "from botorch.fit import fit_gpytorch_model\n",
    "from botorch.models import SingleTaskGP\n",
    "from botorch.test_functions import Branin\n",
    "from gpytorch.mlls import ExactMarginalLogLikelihood\n",
    "from botorch.acquisition import ExpectedImprovement\n",
    "from botorch.optim import optimize_acqf\n",
    "import time"
   ]
  },
  {
   "cell_type": "code",
   "execution_count": 5,
   "metadata": {},
   "outputs": [
    {
     "name": "stdout",
     "output_type": "stream",
     "text": [
      "The iteration number is  0\n",
      "Best value is  tensor(2.3903)\n",
      "Total time is  2.9730820655822754\n"
     ]
    }
   ],
   "source": [
    "start_time = time.time()\n",
    "train_x = torch.tensor([[-2.018476606457733, 10.28593793628148], [0.8510493167919746, 6.888642195088246], [9.881155137925708, 1.8820277741834306]])\n",
    "branin = Branin()\n",
    "train_obj = branin(train_x).unsqueeze(-1)\n",
    "\n",
    "for i in range(1):\n",
    "    model = SingleTaskGP(train_X=train_x, train_Y=train_obj)\n",
    "    mll = ExactMarginalLogLikelihood(model.likelihood, model)\n",
    "    fit_gpytorch_model(mll)\n",
    "    best_value = train_obj.min()\n",
    "    EI = ExpectedImprovement(model=model, best_f=best_value, maximize = False)\n",
    "    new_point_analytic, _ = optimize_acqf(\n",
    "        acq_function=EI,\n",
    "        bounds=torch.tensor([[-5.0, 0.0] , [10.0, 15.0]]),\n",
    "        q=1,\n",
    "        num_restarts=1000,\n",
    "        raw_samples=1000,\n",
    "        options={},\n",
    "    )\n",
    "    train_x =  torch.cat((train_x, new_point_analytic), 0)\n",
    "    train_obj = torch.cat((train_obj, branin(new_point_analytic).unsqueeze(-1)), 0)\n",
    "    print('The iteration number is ', i)\n",
    "    print('Best value is ', train_obj.min())\n",
    "end_time = time.time()\n",
    "print('Total time is ', end_time - start_time)"
   ]
  },
  {
   "cell_type": "code",
   "execution_count": 2,
   "metadata": {},
   "outputs": [],
   "source": [
    "train_x = torch.rand(10, 2)*15 + torch.tensor([-5.0, 0.0])\n",
    "branin = Branin()\n",
    "train_obj = branin(train_x).unsqueeze(-1)"
   ]
  },
  {
   "cell_type": "code",
   "execution_count": 4,
   "metadata": {},
   "outputs": [
    {
     "data": {
      "text/plain": [
       "tensor([105.0920,   9.5040,   3.4028,  41.2966, 183.4196, 172.4314, 121.3921,\n",
       "         91.8347,  23.3721,   6.8067])"
      ]
     },
     "execution_count": 4,
     "metadata": {},
     "output_type": "execute_result"
    }
   ],
   "source": [
    "branin(train_x)"
   ]
  },
  {
   "cell_type": "code",
   "execution_count": 17,
   "metadata": {},
   "outputs": [],
   "source": [
    "temp =  torch.cat((train_x, new_point_analytic), 0)\n",
    "temp_y = torch.cat((train_obj, branin(new_point_analytic).unsqueeze(-1)), 0)"
   ]
  },
  {
   "cell_type": "code",
   "execution_count": 16,
   "metadata": {},
   "outputs": [
    {
     "data": {
      "text/plain": [
       "tensor([[36.0207],\n",
       "        [61.6675],\n",
       "        [ 4.7951],\n",
       "        [82.5190],\n",
       "        [68.8068],\n",
       "        [62.1604],\n",
       "        [49.5711],\n",
       "        [37.3606],\n",
       "        [ 7.8774],\n",
       "        [52.2367]])"
      ]
     },
     "execution_count": 16,
     "metadata": {},
     "output_type": "execute_result"
    }
   ],
   "source": [
    "train_obj"
   ]
  },
  {
   "cell_type": "code",
   "execution_count": 18,
   "metadata": {},
   "outputs": [
    {
     "data": {
      "text/plain": [
       "tensor([[36.0207],\n",
       "        [61.6675],\n",
       "        [ 4.7951],\n",
       "        [82.5190],\n",
       "        [68.8068],\n",
       "        [62.1604],\n",
       "        [49.5711],\n",
       "        [37.3606],\n",
       "        [ 7.8774],\n",
       "        [52.2367],\n",
       "        [ 5.1468]])"
      ]
     },
     "execution_count": 18,
     "metadata": {},
     "output_type": "execute_result"
    }
   ],
   "source": [
    "temp_y"
   ]
  },
  {
   "cell_type": "code",
   "execution_count": 15,
   "metadata": {},
   "outputs": [
    {
     "data": {
      "text/plain": [
       "tensor([[5.1468]])"
      ]
     },
     "execution_count": 15,
     "metadata": {},
     "output_type": "execute_result"
    }
   ],
   "source": [
    "branin(new_point_analytic).unsqueeze(-1)"
   ]
  },
  {
   "cell_type": "code",
   "execution_count": 6,
   "metadata": {},
   "outputs": [
    {
     "data": {
      "text/plain": [
       "tensor([[ 7.8748,  6.5985],\n",
       "        [-1.8067,  1.9546],\n",
       "        [-2.3514,  9.2108],\n",
       "        [ 3.6860, 10.8739],\n",
       "        [ 1.2922, 11.6535],\n",
       "        [ 2.4517, 10.5924],\n",
       "        [ 9.4098,  9.4746],\n",
       "        [-3.4653,  7.0280],\n",
       "        [ 3.9130,  3.9324],\n",
       "        [-3.9074,  7.1799],\n",
       "        [-2.2757,  9.1210]])"
      ]
     },
     "execution_count": 6,
     "metadata": {},
     "output_type": "execute_result"
    }
   ],
   "source": [
    "temp"
   ]
  }
 ],
 "metadata": {
  "kernelspec": {
   "display_name": "Python 3",
   "language": "python",
   "name": "python3"
  },
  "language_info": {
   "codemirror_mode": {
    "name": "ipython",
    "version": 3
   },
   "file_extension": ".py",
   "mimetype": "text/x-python",
   "name": "python",
   "nbconvert_exporter": "python",
   "pygments_lexer": "ipython3",
   "version": "3.7.4"
  }
 },
 "nbformat": 4,
 "nbformat_minor": 2
}
