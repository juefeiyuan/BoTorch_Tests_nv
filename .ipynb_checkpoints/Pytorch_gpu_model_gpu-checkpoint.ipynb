{
 "cells": [
  {
   "cell_type": "code",
   "execution_count": 1,
   "metadata": {},
   "outputs": [],
   "source": [
    "import torch\n",
    "import numpy as np\n",
    "import math\n",
    "from botorch.fit import fit_gpytorch_model\n",
    "from botorch.models import SingleTaskGP\n",
    "from botorch.test_functions import Branin\n",
    "from gpytorch.mlls import ExactMarginalLogLikelihood\n",
    "from botorch.acquisition import ExpectedImprovement\n",
    "from botorch.optim import optimize_acqf\n",
    "import time "
   ]
  },
  {
   "cell_type": "code",
   "execution_count": 2,
   "metadata": {},
   "outputs": [],
   "source": [
    "device = torch.device(\"cuda\" if torch.cuda.is_available() else \"cpu\")\n",
    "dtype = torch.float"
   ]
  },
  {
   "cell_type": "code",
   "execution_count": 6,
   "metadata": {},
   "outputs": [
    {
     "name": "stdout",
     "output_type": "stream",
     "text": [
      "The iteration number is  0\n",
      "Best value is  tensor(2.0583, device='cuda:0')\n",
      "Total time is  7.402250289916992\n"
     ]
    }
   ],
   "source": [
    "start_time = time.time()\n",
    "train_x = torch.tensor([[-2.018476606457733, 10.28593793628148], [0.8510493167919746, 6.888642195088246], [9.881155137925708, 1.8820277741834306]],\\\n",
    "                      dtype=dtype, device=device)\n",
    "branin = Branin()\n",
    "train_obj = branin(train_x).unsqueeze(-1)\n",
    "\n",
    "for i in range(1):\n",
    "    model = SingleTaskGP(train_X=train_x, train_Y=train_obj)\n",
    "    mll = ExactMarginalLogLikelihood(model.likelihood, model)\n",
    "    model = model.to(device)\n",
    "    mll = mll.to(device)\n",
    "    fit_gpytorch_model(mll)\n",
    "    best_value = train_obj.min()\n",
    "    EI = ExpectedImprovement(model=model, best_f=best_value, maximize = False)\n",
    "    new_point_analytic, _ = optimize_acqf(\n",
    "        acq_function=EI,\n",
    "        bounds=torch.tensor([[-5.0, 0.0] , [10.0, 15.0]], dtype=dtype, device=device),\n",
    "        q=1,\n",
    "        num_restarts=1000,\n",
    "        raw_samples=1000,\n",
    "        options={},\n",
    "    )\n",
    "    train_x =  torch.cat((train_x, new_point_analytic), 0)\n",
    "    train_obj = torch.cat((train_obj, branin(new_point_analytic).unsqueeze(-1)), 0)\n",
    "    print('The iteration number is ', i)\n",
    "    print('Best value is ', train_obj.min())\n",
    "    \n",
    "end_time = time.time()\n",
    "print('Total time is ', end_time - start_time)"
   ]
  }
 ],
 "metadata": {
  "kernelspec": {
   "display_name": "Python 3",
   "language": "python",
   "name": "python3"
  },
  "language_info": {
   "codemirror_mode": {
    "name": "ipython",
    "version": 3
   },
   "file_extension": ".py",
   "mimetype": "text/x-python",
   "name": "python",
   "nbconvert_exporter": "python",
   "pygments_lexer": "ipython3",
   "version": "3.7.4"
  }
 },
 "nbformat": 4,
 "nbformat_minor": 2
}
